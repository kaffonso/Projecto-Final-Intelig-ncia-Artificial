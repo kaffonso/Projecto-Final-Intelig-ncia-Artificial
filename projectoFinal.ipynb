{
 "cells": [
  {
   "cell_type": "markdown",
   "metadata": {},
   "source": [
    "Importando bibliotecas"
   ]
  },
  {
   "cell_type": "code",
   "execution_count": null,
   "metadata": {},
   "outputs": [
    {
     "ename": "",
     "evalue": "",
     "output_type": "error",
     "traceback": [
      "\u001b[1;31mFailed to start Jupyter in the environment 'Python 3.9.7 64-bit (/bin/python3)'. \n",
      "View Jupyter <a href='command:jupyter.viewOutput'>log</a> for further details."
     ]
    }
   ],
   "source": [
    "import matplotlib.pyplot as plt\n",
    "from PIL import Image, ImageTk\n",
    "import pytesseract\n",
    "from gtts import gTTS\n",
    "import numpy as np\n",
    "import re\n",
    "import cv2\n",
    "import PySimpleGUI as sg\n",
    "import os"
   ]
  },
  {
   "cell_type": "markdown",
   "metadata": {},
   "source": [
    "Configurando pytesseract"
   ]
  },
  {
   "cell_type": "code",
   "execution_count": null,
   "metadata": {},
   "outputs": [],
   "source": [
    "tessdata_dir_config = \"data\""
   ]
  },
  {
   "cell_type": "markdown",
   "metadata": {},
   "source": [
    "Importando e mostrando imagem original"
   ]
  },
  {
   "cell_type": "code",
   "execution_count": null,
   "metadata": {},
   "outputs": [
    {
     "ename": "",
     "evalue": "",
     "output_type": "error",
     "traceback": [
      "\u001b[1;31mFailed to start Jupyter in the environment 'Python 3.9.7 64-bit (/bin/python3)'. \n",
      "View Jupyter <a href='command:jupyter.viewOutput'>log</a> for further details."
     ]
    }
   ],
   "source": [
    "img = cv2.imread('images/' + 'teste2' + '.png')\n",
    "plt.imshow(img, cmap='gray')"
   ]
  },
  {
   "cell_type": "markdown",
   "metadata": {},
   "source": [
    "Verificando orientacao da imagem"
   ]
  },
  {
   "cell_type": "code",
   "execution_count": null,
   "metadata": {},
   "outputs": [],
   "source": [
    "# osd = pytesseract.image_to_osd(img)\n",
    "# re.search('(?<=Rotate: )\\d+', osd).group(0)"
   ]
  },
  {
   "cell_type": "markdown",
   "metadata": {},
   "source": [
    "Pre-processamento da imagem"
   ]
  },
  {
   "cell_type": "code",
   "execution_count": null,
   "metadata": {},
   "outputs": [],
   "source": [
    "gry = cv2.cvtColor(img, cv2.COLOR_BGR2GRAY)\n",
    "plt.imshow(gry, cmap='gray')"
   ]
  },
  {
   "cell_type": "code",
   "execution_count": null,
   "metadata": {},
   "outputs": [],
   "source": [
    "blr = cv2.GaussianBlur(gry, (3, 3), 0)\n",
    "plt.imshow(blr,cmap='gray')"
   ]
  },
  {
   "cell_type": "code",
   "execution_count": null,
   "metadata": {},
   "outputs": [],
   "source": [
    "img_filtered = cv2.threshold(blr, 0, 255, cv2.THRESH_BINARY + cv2.THRESH_OTSU)[1]\n",
    "plt.imshow(img_filtered, cmap='gray')"
   ]
  },
  {
   "cell_type": "markdown",
   "metadata": {},
   "source": [
    "Convertendo a imagem para um string"
   ]
  },
  {
   "cell_type": "code",
   "execution_count": null,
   "metadata": {},
   "outputs": [],
   "source": [
    "output = pytesseract.image_to_string(img)\n",
    "\n",
    "if output.isspace():\n",
    "  print('Imagem sem texto!\\n')\n",
    "else:\n",
    "    print('Texto extraido: '+ output)  "
   ]
  },
  {
   "cell_type": "markdown",
   "metadata": {},
   "source": [
    "Resultado da precisao do algoritmo por linha de texto / output (extraido, confidence)"
   ]
  },
  {
   "cell_type": "code",
   "execution_count": null,
   "metadata": {},
   "outputs": [],
   "source": [
    "dataframe = pytesseract.image_to_data(img_filtered,output_type='data.frame')\n",
    "\n",
    "dataframe = dataframe[dataframe.conf != -1]\n",
    "\n",
    "lines = dataframe.groupby(['page_num','block_num','par_num', 'line_num'])['text'].apply(lambda x : ' '.join(list(x))).tolist()\n",
    "\n",
    "confidences = dataframe.groupby(['page_num','block_num','par_num', 'line_num'])['conf'].mean().tolist()\n",
    "\n",
    "line_confidences = []\n",
    "\n",
    "for i in range(len(lines)):\n",
    "  if lines[i].strip():\n",
    "    line_confidences.append(((lines[i]), round(confidences[i],1)))\n",
    "    \n",
    "print(line_confidences)"
   ]
  },
  {
   "cell_type": "markdown",
   "metadata": {},
   "source": [
    "Tabela contendo informacoes da base"
   ]
  },
  {
   "cell_type": "code",
   "execution_count": null,
   "metadata": {},
   "outputs": [],
   "source": [
    "print(dataframe.head())"
   ]
  },
  {
   "cell_type": "markdown",
   "metadata": {},
   "source": [
    "Convertendo o texto da imagem em audio\n"
   ]
  },
  {
   "cell_type": "code",
   "execution_count": null,
   "metadata": {},
   "outputs": [],
   "source": [
    "# audio = gTTS(text = output, lang = 'en', slow = False)\n",
    "# audio.save(\"audio_exported.mp3\")"
   ]
  },
  {
   "cell_type": "markdown",
   "metadata": {},
   "source": [
    "Image Boxes\n"
   ]
  },
  {
   "cell_type": "code",
   "execution_count": null,
   "metadata": {},
   "outputs": [],
   "source": [
    "img_boxes = pytesseract.image_to_boxes(img_filtered)\n",
    "print(img_boxes)"
   ]
  },
  {
   "cell_type": "markdown",
   "metadata": {},
   "source": [
    "Mostrando cada letra dentro de uma caixa"
   ]
  },
  {
   "cell_type": "code",
   "execution_count": null,
   "metadata": {},
   "outputs": [],
   "source": [
    "imgH, imgW = img_filtered.shape  \n",
    "\n",
    "for boxes in img_boxes.splitlines():\n",
    "  boxes = boxes.split(' ')\n",
    "  x,y,w,h = int(boxes[1]), int(boxes[2]), int(boxes[3]), int(boxes[4])  \n",
    "  cv2.rectangle(img_filtered, (x,imgH-y), (w,imgH-h), (0,0,255),1)\n",
    "\n",
    "plt.imshow(img_filtered, cmap=\"gray\")"
   ]
  },
  {
   "cell_type": "markdown",
   "metadata": {},
   "source": [
    "LENDO E CONVERTENDO VIDEO/WEBCAM VIDEO EM REAL TIME\n"
   ]
  },
  {
   "cell_type": "markdown",
   "metadata": {},
   "source": [
    "Com video"
   ]
  },
  {
   "cell_type": "code",
   "execution_count": null,
   "metadata": {},
   "outputs": [],
   "source": [
    "#cap = cv2.VideoCapture(\"videos/Fast.mp4\")"
   ]
  },
  {
   "cell_type": "markdown",
   "metadata": {},
   "source": [
    "Com camera (realtime)\n"
   ]
  },
  {
   "cell_type": "code",
   "execution_count": null,
   "metadata": {},
   "outputs": [],
   "source": [
    "cap = cv2.VideoCapture(0)"
   ]
  },
  {
   "cell_type": "markdown",
   "metadata": {},
   "source": [
    "Definindo o tamanho do ecra e tipo de letra\n"
   ]
  },
  {
   "cell_type": "code",
   "execution_count": null,
   "metadata": {},
   "outputs": [],
   "source": [
    "widthScreen = 640     \n",
    "heigthScreen = 480\n",
    "\n",
    "cap.set(3,widthScreen)\n",
    "cap.set(4,heigthScreen)\n",
    "\n",
    "font_scale = 1.5\n",
    "font = cv2.FONT_HERSHEY_SIMPLEX"
   ]
  },
  {
   "cell_type": "markdown",
   "metadata": {},
   "source": [
    "Executando em real time"
   ]
  },
  {
   "cell_type": "code",
   "execution_count": null,
   "metadata": {},
   "outputs": [],
   "source": [
    "while True:\n",
    "  Success, img = cap.read()\n",
    "  imgH, imgW, _ = img.shape   \n",
    "  x1, y1, w1, h1 =  0, 0, imgH, imgW\n",
    "\n",
    "  gry = cv2.cvtColor(img, cv2.COLOR_BGR2GRAY)\n",
    "  blr = cv2.GaussianBlur(gry, (3, 3), 0)\n",
    "  img_filtered = cv2.threshold(blr, 0, 255, cv2.THRESH_BINARY + cv2.THRESH_OTSU)[1]\n",
    "\n",
    "  outputChar = pytesseract.image_to_string(img_filtered)\n",
    "  outputBoxes = pytesseract.image_to_boxes(img_filtered)\n",
    "\n",
    "  for boxes in outputBoxes.splitlines(): \n",
    "   boxes = boxes.split(' ')\n",
    "   x,y,w,h = int(boxes[1]), int(boxes[2]), int(boxes[3]), int(boxes[4])  \n",
    "   cv2.rectangle(img, (x,imgH-y), (w,imgH-h), (0,0,255),1)\n",
    "\n",
    "  if outputChar.isspace():\n",
    "    print('Imagem sem texto!\\n')\n",
    "  else:\n",
    "    #print('Texto extraido: '+ outputChar)\n",
    "    outputChar = outputChar.replace(\"?\" , \" \")\n",
    "    cv2.putText(img, outputChar, (x1 + int(w1/10), y1 + int(h1/10)), font, 1, (0,0,255), 2)\n",
    "  \n",
    "  cv2.imshow(\"Image\", img)\n",
    "  if cv2.waitKey(2) & 0XFF == ord('q'):\n",
    "    break\n",
    "\n",
    "cap.release()\n",
    "cv2.destroyAllWindows()\n"
   ]
  },
  {
   "cell_type": "markdown",
   "metadata": {},
   "source": [
    "PySimpleGUI"
   ]
  },
  {
   "cell_type": "code",
   "execution_count": null,
   "metadata": {},
   "outputs": [],
   "source": [
    "sg.theme('TanBlue')\n",
    "\n",
    "layout = [\n",
    "  [sg.Text('Insira uma imagem:', font=('verdana',10)), sg.Input(size=(46,5), key='file', font=('verdana',10)),sg.FileBrowse(font=('verdana',10))],\n",
    "  [sg.Column([[sg.Image(key='image')]], justification= 'center')],\n",
    "  [sg.Text(\"Texto extraido:\", font=('verdana',10))], \n",
    "  [sg.Multiline(\n",
    "    key='textarea', \n",
    "    size=(60,5), \n",
    "    no_scrollbar=True, \n",
    "    auto_size_text=True, \n",
    "    justification=\"center\", \n",
    "    font=('Verdana',12),\n",
    "    pad=10)],\n",
    "  [sg.Text(\"Precisao:\", font=('verdana',10))], \n",
    "  [sg.Multiline(\n",
    "    key='confidence', \n",
    "    size=(75,2), \n",
    "    no_scrollbar=True, \n",
    "    auto_size_text=True, \n",
    "    justification=\"center\", \n",
    "    font=('Verdana',10),\n",
    "    pad=10)],\n",
    "  [sg.Column([[sg.Button('Converter', font=('verdana',10), size=(21,1)), sg.Button('Ouvir', font=('verdana',10), size=(21,1)), sg.Button('RealTime', font=('verdana',10), size=(21,1))]], \n",
    "  justification= 'center')]\n",
    "  ]\n",
    "\n",
    "window =  sg.Window('Extrator de Texto de Imagens',layout, margins=(20,5))\n",
    "\n",
    "while True:\n",
    "  event, value = window.read()\n",
    "\n",
    "  if event == sg.WINDOW_CLOSED:\n",
    "    break\n",
    "\n",
    "  if event == 'Converter':\n",
    "    filename = value['file']\n",
    "    if os.path.exists(filename): \n",
    "      img = cv2.imread(filename)\n",
    "\n",
    "      im = Image.open(filename)\n",
    "      im = im.resize((300,250), resample=Image.ANTIALIAS)\n",
    "      image = ImageTk.PhotoImage(image=im)\n",
    "      \n",
    "      gry = cv2.cvtColor(img, cv2.COLOR_BGR2GRAY)\n",
    "      blr = cv2.GaussianBlur(gry, (3, 3), 0)\n",
    "      img_filtered = cv2.threshold(blr, 0, 255, cv2.THRESH_BINARY + cv2.THRESH_OTSU)[1]\n",
    "\n",
    "      output = pytesseract.image_to_string(img_filtered)  \n",
    "      dataframe = pytesseract.image_to_data(img_filtered,output_type='data.frame')\n",
    "    \n",
    "      dataframe = dataframe[dataframe.conf != -1]\n",
    "      lines = dataframe.groupby(['page_num','block_num','par_num', 'line_num'])['text'].apply(lambda x : ' '.join(list(x))).tolist()\n",
    "      confidences = dataframe.groupby(['page_num','block_num','par_num', 'line_num'])['conf'].mean().tolist()\n",
    "      line_confidences = []\n",
    "      for i in range(len(lines)):\n",
    "        if lines[i].strip():\n",
    "          line_confidences.append(((lines[i]), round(confidences[i],1)))\n",
    "    \n",
    "      window['textarea'].Update(output)\n",
    "      window['confidence'].Update(line_confidences)\n",
    "      window['image'].Update(data=image)\n",
    "\n",
    "      #audio = gTTS(text = output, lang = 'en', slow = False)\n",
    "      #audio.save(\"audio_exported.mp3\")\n",
    "\n",
    "  if event == 'Ouvir':\n",
    "    file = \"audio.mp3\"\n",
    "    os.system(\" \" + file)\n",
    "\n",
    "\n",
    "  if event == 'RealTime':\n",
    "    cap = cv2.VideoCapture(0)\n",
    "    widthScreen = 640     \n",
    "    heigthScreen = 480\n",
    "\n",
    "    cap.set(3,widthScreen)\n",
    "    cap.set(4,heigthScreen)\n",
    "\n",
    "    font_scale = 1.5\n",
    "    font = cv2.FONT_HERSHEY_SIMPLEX\n",
    "\n",
    "    while True:\n",
    "      Success, img = cap.read()\n",
    "      imgH, imgW, _ = img.shape   \n",
    "      x1, y1, w1, h1 =  0, 0, imgH, imgW\n",
    "\n",
    "      gry = cv2.cvtColor(img, cv2.COLOR_BGR2GRAY)\n",
    "      blr = cv2.GaussianBlur(gry, (3, 3), 0)\n",
    "      img_filtered = cv2.threshold(blr, 0, 255, cv2.THRESH_BINARY + cv2.THRESH_OTSU)[1]\n",
    "\n",
    "      outputChar = pytesseract.image_to_string(img_filtered)\n",
    "      outputBoxes = pytesseract.image_to_boxes(img_filtered)\n",
    "\n",
    "      for boxes in outputBoxes.splitlines(): \n",
    "        boxes = boxes.split(' ')\n",
    "        x,y,w,h = int(boxes[1]), int(boxes[2]), int(boxes[3]), int(boxes[4])  \n",
    "        cv2.rectangle(img, (x,imgH-y), (w,imgH-h), (0,0,255),1)\n",
    "\n",
    "      if outputChar.isspace():\n",
    "        print('Imagem sem texto!\\n')\n",
    "      else:\n",
    "        #print('Texto extraido: '+ outputChar)\n",
    "        outputChar = outputChar.replace(\"?\" , \" \")\n",
    "        cv2.putText(img, outputChar, (x1 + int(w1/10), y1 + int(h1/10)), font, 1, (0,0,255), 2)\n",
    "  \n",
    "      cv2.imshow(\"Image\", img)\n",
    "      if cv2.waitKey(2) & 0XFF == ord('q'):\n",
    "         break\n",
    "\n",
    "    cap.release()\n",
    "    cv2.destroyAllWindows()\n",
    "\n",
    "  \n",
    "window.close()"
   ]
  }
 ],
 "metadata": {
  "interpreter": {
   "hash": "31f2aee4e71d21fbe5cf8b01ff0e069b9275f58929596ceb00d14d90e3e16cd6"
  },
  "kernelspec": {
   "display_name": "Python 3.9.7 64-bit",
   "language": "python",
   "name": "python3"
  },
  "language_info": {
   "codemirror_mode": {
    "name": "ipython",
    "version": 3
   },
   "file_extension": ".py",
   "mimetype": "text/x-python",
   "name": "python",
   "nbconvert_exporter": "python",
   "pygments_lexer": "ipython3",
   "version": "3.9.7"
  },
  "orig_nbformat": 4
 },
 "nbformat": 4,
 "nbformat_minor": 2
}
